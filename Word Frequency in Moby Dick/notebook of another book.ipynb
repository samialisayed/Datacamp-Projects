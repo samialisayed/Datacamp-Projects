{
 "cells": [
  {
   "cell_type": "code",
   "execution_count": 1,
   "metadata": {},
   "outputs": [],
   "source": [
    "# Importing requests, BeautifulSoup and nltk\n",
    "import requests\n",
    "from bs4 import BeautifulSoup\n",
    "import nltk"
   ]
  },
  {
   "cell_type": "code",
   "execution_count": 2,
   "metadata": {},
   "outputs": [],
   "source": [
    "# Getting The Silverton Story HTML \n",
    "req = requests.get('https://www.gutenberg.org/files/60733/60733-h/60733-h.htm')"
   ]
  },
  {
   "cell_type": "code",
   "execution_count": 3,
   "metadata": {},
   "outputs": [],
   "source": [
    "# Setting the correct text encoding of the HTML page\n",
    "req.encoding = 'utf-8'"
   ]
  },
  {
   "cell_type": "code",
   "execution_count": 4,
   "metadata": {},
   "outputs": [
    {
     "name": "stdout",
     "output_type": "stream",
     "text": [
      "<!DOCTYPE html PUBLIC \"-//W3C//DTD XHTML 1.0 Strict//EN\" \"http://www.w3.org/TR/xhtml1/DTD/xhtml1-strict.dtd\">\r\n",
      "<html xmlns=\"http://www.w3.org/1999/xhtml\" xml:lang=\"en\" lang=\"en\">\r\n",
      "<head>\r\n",
      "<meta http-equiv=\"Content-Type\" content=\"text/html;charset=utf-8\" />\r\n",
      "<meta http-equiv=\"Content-Style-Type\" content=\"text/css\" />\r\n",
      "<meta name=\"viewport\" content=\"width=device-width, initial-scale=1.0\" />\r\n",
      "<title>The Silverton Story, by Mary Ann Olsen&mdash;a Project Gutenberg eBook</title>\r\n",
      "<meta name=\"author\" content=\"Mary Ann Olsen\" />\r\n",
      "<meta name=\"pss.pubdate\" content=\"1962\" />\r\n",
      "<link rel=\"coverpage\" href=\"images/cover.jpg\" />\r\n",
      "<link rel=\"spine\" href=\"images/spine.jpg\" />\r\n",
      "<link rel=\"schema.DC\" href=\"http://dublincore.org/documents/1998/09/dces/\" />\r\n",
      "<meta name=\"DC.Title\" content=\"The Silverton Story\" />\r\n",
      "<meta name=\"DC.Language\" content=\"en\" />\r\n",
      "<meta name=\"DC.Format\" content=\"text/html\" />\r\n",
      "<meta name=\"DC.Created\" content=\"1962\" />\r\n",
      "<meta name=\"DC.Creator\" content=\"Mary Ann Olsen\" />\r\n",
      "<style type=\"text/css\">\r\n",
      "/* == GLOBAL MARKUP == */\r\n",
      "body, table.twocol tr td  { margin-left:2em; margin-right:2em; }   /* BODY */\r\n",
      ".box     { border-style:double; margin-bottom:2em; max-width:30em; margin-right:auto; margin-left:auto; margin-top:2em; clear:both; }\r\n",
      ".box p   { margin-right:1em; margin-left:1em; }\r\n",
      ".box dl  { margin-right:1em; margin-left:1em; }\r\n",
      "h1, h2, h5, h6, .titlepg p { text-align:center; clear:both; text-indent:0; }   /* HEADINGS */\r\n",
      "h2                { margin-top:1.5em; margin-bottom:1em; font-size:110%; text-align:center; }\r\n",
      "h1                { margin-top:3em; }\r\n",
      "h1 .likep         { font-weight:normal; font-size:50%; }\r\n",
      "div.box h1        { margin-top:1em; margin-left:.5em; margin-right:.5em; }\r\n",
      "h3                { margin-top:2.5em; font-style:italic; text-align:left; }\r\n",
      "h4, h5            { font-size:100%; text-align:right; clear:right; }\r\n",
      "h6                { font-size:100%; }\r\n",
      "h6.var            { font-size:80%; font-style:normal; }\r\n",
      ".titlepg          { margin-left:auto; mar\n"
     ]
    }
   ],
   "source": [
    "# Extracting the HTML from the request object\n",
    "html = req.text\n",
    "\n",
    "# Printing the first 2000 characters in html\n",
    "print(html[:2000])"
   ]
  },
  {
   "cell_type": "code",
   "execution_count": 5,
   "metadata": {},
   "outputs": [],
   "source": [
    "# Creating a BeautifulSoup object from the HTML\n",
    "soup = BeautifulSoup(html)"
   ]
  },
  {
   "cell_type": "code",
   "execution_count": 6,
   "metadata": {},
   "outputs": [
    {
     "name": "stdout",
     "output_type": "stream",
     "text": [
      "nt:0; }                  /* TEXTUAL MARKUP */\r\n",
      "span.center              { display:block; }\r\n",
      "table.center { clear:both; margin-right:auto; margin-left:auto; }\r\n",
      "table.center tr td.l  {text-align:left; margin-left:0em; }\r\n",
      "table.center tr td.j  {text-align:justify; }\r\n",
      "table.center tr td.ltab { text-align:left; width:1.5em; }\r\n",
      "table.center tr td.t  {text-align:left; text-indent:1em; }\r\n",
      "table.center tr td.t2 {text-align:left; text-indent:2em; }\r\n",
      "table.center tr td.r, table.center tr th.r  {text-align:right; }\r\n",
      "table.center tr th.rx  { width:4.5em; text-align:right; }\r\n",
      "table.center tr th    {vertical-align:bottom; }\r\n",
      "table.center tr td    {vertical-align:top; }\r\n",
      "table.inline, table.symbol { display: inline-table; vertical-align: middle; }\r\n",
      "\r\n",
      "p           { clear:left; }\r\n",
      ".small, .lsmall      { font-size:90%; }\r\n",
      ".smaller    { font-size:80%; }\r\n",
      ".smallest   { font-size:67%; }\r\n",
      ".larger     { font-size:150%; }\r\n",
      ".large      { font-size:125%; }\r\n",
      ".xlarge     { font-size:200%; line-height:60%; }\r\n",
      ".xxla\n"
     ]
    }
   ],
   "source": [
    "# Getting the text out of the soup\n",
    "text = soup.get_text()\n",
    "\n",
    "# Printing out text between characters 3000 and 4000\n",
    "print(text[3000:4000])"
   ]
  },
  {
   "cell_type": "code",
   "execution_count": 7,
   "metadata": {},
   "outputs": [
    {
     "name": "stdout",
     "output_type": "stream",
     "text": [
      "['The', 'Silverton', 'Story', 'by', 'Mary', 'Ann', 'Olsen', 'a', 'Project', 'Gutenberg']\n"
     ]
    }
   ],
   "source": [
    "# Creating a tokenizer\n",
    "tokenizer = nltk.tokenize.RegexpTokenizer('\\w+')\n",
    "\n",
    "# Tokenizing the text\n",
    "tokens = tokenizer.tokenize(text)\n",
    "\n",
    "# Printing out the first 10 words \n",
    "print(tokens[:10])"
   ]
  },
  {
   "cell_type": "code",
   "execution_count": 8,
   "metadata": {},
   "outputs": [
    {
     "name": "stdout",
     "output_type": "stream",
     "text": [
      "['the', 'silverton', 'story', 'by', 'mary', 'ann', 'olsen', 'a', 'project', 'gutenberg']\n"
     ]
    }
   ],
   "source": [
    "# A new list to hold the lowercased words\n",
    "words = []\n",
    "\n",
    "# Looping through the tokens and make them lower case\n",
    "for word in tokens:\n",
    "    words.append(word.lower())\n",
    "\n",
    "# Printing out the first 10 words \n",
    "print(words[:10])"
   ]
  },
  {
   "cell_type": "code",
   "execution_count": 9,
   "metadata": {},
   "outputs": [
    {
     "name": "stdout",
     "output_type": "stream",
     "text": [
      "['i', 'me', 'my', 'myself', 'we', 'our', 'ours', 'ourselves', 'you', \"you're\"]\n"
     ]
    }
   ],
   "source": [
    "# Getting the English stop words from nltk\n",
    "from nltk.corpus import stopwords\n",
    "sw = stopwords.words('english')\n",
    "\n",
    "\n",
    "# Printing out the first ten stop words\n",
    "print(sw[:10])"
   ]
  },
  {
   "cell_type": "code",
   "execution_count": 10,
   "metadata": {},
   "outputs": [
    {
     "name": "stdout",
     "output_type": "stream",
     "text": [
      "['silverton', 'story', 'mary', 'ann', 'olsen', 'project', 'gutenberg', 'ebook']\n"
     ]
    }
   ],
   "source": [
    "# A new list to hold The Silverton Story with No Stop words\n",
    "words_ns = []\n",
    "\n",
    "# Appending to words_ns all words that are in words but not in sw\n",
    "for word in words:\n",
    "    if word not in sw:\n",
    "        words_ns.append(word)\n",
    "\n",
    "# Printing the first 8 words_ns to check that stop words are gone\n",
    "print(words_ns[:8])"
   ]
  },
  {
   "cell_type": "code",
   "execution_count": 11,
   "metadata": {},
   "outputs": [
    {
     "data": {
      "image/png": "[encoded data removed]",
      "text/plain": [
       "<Figure size 432x288 with 1 Axes>"
      ]
     },
     "metadata": {
      "needs_background": "light"
     },
     "output_type": "display_data"
    }
   ],
   "source": [
    "# This command display figures inline\n",
    "%matplotlib inline\n",
    "\n",
    "# Creating the word frequency distribution\n",
    "freqdist = nltk.FreqDist(words_ns)\n",
    "\n",
    "# Plotting the word frequency distribution\n",
    "freqdist.plot(25);"
   ]
  },
  {
   "cell_type": "code",
   "execution_count": 12,
   "metadata": {},
   "outputs": [
    {
     "name": "stdout",
     "output_type": "stream",
     "text": [
      "Most common word is margin\n"
     ]
    }
   ],
   "source": [
    "# What's the most common word in The Silverton Story?\n",
    "print('Most common word is',freqdist.most_common(1)[0][0])"
   ]
  },
  {
   "cell_type": "code",
   "execution_count": null,
   "metadata": {},
   "outputs": [],
   "source": []
  }
 ],
 "metadata": {
  "kernelspec": {
   "display_name": "Python 3",
   "language": "python",
   "name": "python3"
  },
  "language_info": {
   "codemirror_mode": {
    "name": "ipython",
    "version": 3
   },
   "file_extension": ".py",
   "mimetype": "text/x-python",
   "name": "python",
   "nbconvert_exporter": "python",
   "pygments_lexer": "ipython3",
   "version": "3.7.3"
  }
 },
 "nbformat": 4,
 "nbformat_minor": 2
}
